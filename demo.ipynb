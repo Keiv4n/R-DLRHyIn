{
 "cells": [
  {
   "cell_type": "markdown",
   "metadata": {},
   "source": [
    "# Import libs"
   ]
  },
  {
   "cell_type": "code",
   "execution_count": null,
   "metadata": {},
   "outputs": [],
   "source": [
    "from __future__ import print_function\n",
    "import matplotlib.pyplot as plt\n",
    "%matplotlib inline\n",
    "\n",
    "import os\n",
    "\n",
    "import numpy as np\n",
    "import scipy.io\n",
    "from models.resnet import ResNet\n",
    "from models.unet import UNet\n",
    "from models.skip import skip\n",
    "import torch\n",
    "import torch.optim\n",
    "from PIL import Image\n",
    "from skimage.metrics import peak_signal_noise_ratio as compare_psnr\n",
    "\n",
    "import kornia\n",
    "\n",
    "from utils.inpainting_utils import *\n",
    "\n",
    "\n",
    "torch.backends.cudnn.enabled = True\n",
    "torch.backends.cudnn.benchmark =True\n",
    "dtype = torch.cuda.FloatTensor"
   ]
  },
  {
   "cell_type": "markdown",
   "metadata": {},
   "source": [
    "# Choose figure"
   ]
  },
  {
   "cell_type": "code",
   "execution_count": null,
   "metadata": {},
   "outputs": [],
   "source": [
    "file_name  = 'data/inpainting/WDC_Painted.mat'\n",
    "\n",
    "mat = scipy.io.loadmat(file_name)\n",
    "img_np = mat[\"image\"]\n",
    "img_np = img_np.transpose(2,0,1)\n",
    "img_var = torch.from_numpy(img_np).type(dtype)\n",
    "mask_np = mat[\"mask\"]\n",
    "mask_np = mask_np.transpose(2,0,1)\n",
    "mask_var = torch.from_numpy(mask_np).type(dtype)\n",
    "painted_np = mat[\"painted\"]\n",
    "painted_np = painted_np.transpose(2,0,1)\n",
    "painted_var = torch.from_numpy(painted_np).type(dtype)\n",
    "\n",
    "# ensure dimensions [0][1] are divisible by 32 (or 2^depth)!"
   ]
  },
  {
   "cell_type": "markdown",
   "metadata": {},
   "source": [
    "### Visualize"
   ]
  },
  {
   "cell_type": "code",
   "execution_count": null,
   "metadata": {
    "scrolled": false
   },
   "outputs": [],
   "source": [
    "# band to visualize\n",
    "band = 20\n",
    "\n",
    "f, (ax1, ax2, ax3) = plt.subplots(1, 3, sharey=True, figsize=(15,15))\n",
    "ax1.imshow(img_var[band,:,:].detach().cpu(), cmap='gray')\n",
    "ax2.imshow(mask_var[band,:,:].detach().cpu(), cmap='gray') \n",
    "ax3.imshow((painted_var)[band,:,:].detach().cpu(), cmap='gray')\n",
    "plt.show()"
   ]
  },
  {
   "cell_type": "markdown",
   "metadata": {},
   "source": [
    "# Setup"
   ]
  },
  {
   "cell_type": "code",
   "execution_count": null,
   "metadata": {},
   "outputs": [],
   "source": [
    "pad = 'reflection' #'zero'\n",
    "OPT_OVER = 'net'\n",
    "OPTIMIZER = 'adam'\n",
    "\n",
    "method = '2D'\n",
    "input_depth = img_np.shape[0] \n",
    "LR = 0.01  \n",
    "num_iter = 10001\n",
    "param_noise = False\n",
    "reg_noise_std = 0.1 \n",
    "\n",
    "show_every = 1000\n",
    "save_every = 1000\n",
    "\n",
    "net = skip(input_depth, img_np.shape[0], \n",
    "           num_channels_down = [128] * 5, \n",
    "           num_channels_up =   [128] * 5,\n",
    "           num_channels_skip =    [128] * 5,  \n",
    "           filter_size_up = 3, filter_size_down = 3, \n",
    "           upsample_mode='nearest', filter_skip_size=1,\n",
    "           need_sigmoid=True, need_bias=True, pad=pad, act_fun='LeakyReLU').type(dtype)    \n",
    "\n",
    "net = net.type(dtype)\n",
    "net_input = get_noise(input_depth, method, img_np.shape[1:]).type(dtype)"
   ]
  },
  {
   "cell_type": "code",
   "execution_count": null,
   "metadata": {},
   "outputs": [],
   "source": [
    "# Compute number of parameters\n",
    "s  = sum(np.prod(list(p.size())) for p in net.parameters())\n",
    "print ('Number of params: %d' % s)\n",
    "\n",
    "# Loss\n",
    "\n",
    "delta = 1 # This value is using for measure of robustness. 1 for coverntional inpainting (reducing to DLRHyIn)\n",
    "\n",
    "HLF = torch.nn.HuberLoss(reduction='sum', delta=delta).type(dtype)\n",
    "\n",
    "painted_var = painted_var[None, :].cuda()\n",
    "img_var = img_var[None, :].cuda()\n",
    "mask_var = mask_var[None, :].cuda()"
   ]
  },
  {
   "cell_type": "markdown",
   "metadata": {},
   "source": [
    "# Main loop"
   ]
  },
  {
   "cell_type": "code",
   "execution_count": null,
   "metadata": {
    "scrolled": false
   },
   "outputs": [],
   "source": [
    "f, (ax1, ax2, ax3) = plt.subplots(1, 3, sharey=True, figsize=(15,15))\n",
    "ax1.imshow(img_var.detach().cpu().numpy()[0,10,:,:], cmap='gray')\n",
    "ax2.imshow(img_var.detach().cpu().numpy()[0,170,:,:], cmap='gray')\n",
    "ax3.imshow(img_var.detach().cpu().numpy()[0,150,:,:], cmap='gray')\n",
    "plt.show()\n",
    "\n",
    "def R_eta(input,eta=0.04):\n",
    "\n",
    "    sing = torch.linalg.svdvals(input)\n",
    "    rank = torch.sum((1-torch.exp(-sing//eta)))\n",
    "\n",
    "    return rank\n",
    "\n",
    "reg_par = 0.1      #1ambda in paper \n",
    "        \n",
    "i = 0\n",
    "def closure():\n",
    "    \n",
    "    global i\n",
    "    \n",
    "    if param_noise:\n",
    "        for n in [x for x in net.parameters() if len(x.size()) == 4]:\n",
    "            n = n + n.detach().clone().normal_() * n.std() / 50\n",
    "    \n",
    "    net_input = net_input_saved\n",
    "    if reg_noise_std > 0:\n",
    "        net_input = net_input_saved + (noise.normal_() * reg_noise_std)\n",
    "         \n",
    "    out = net(net_input)\n",
    "    \n",
    "    total_loss = HLF(out * mask_var, painted_var)+reg_par * R_eta(out.view(input_depth, -1))\n",
    "    total_loss.backward()\n",
    "    \n",
    "    psrn_gt = compare_psnr(img_np, out.detach().cpu().numpy()[0]) \n",
    "\n",
    "     \n",
    "        \n",
    "    print ('Iteration %05d    Loss %f  PSRN_gt: %f' % (i, total_loss.item(), psrn_gt), '\\r', end='')\n",
    "    if  i % show_every == 0:\n",
    "        out_np = out.detach().cpu().numpy()[0]\n",
    "        f, (ax1, ax2, ax3) = plt.subplots(1, 3, sharey=True, figsize=(15,15))\n",
    "        ax1.imshow(out_np[10,:,:], cmap='gray')\n",
    "        ax2.imshow(out_np[150,:,:], cmap='gray')\n",
    "        ax3.imshow(out_np[180,:,:], cmap='gray')\n",
    "        plt.show()\n",
    "        \n",
    "    if  i % save_every == 0:\n",
    "        out_np = out.detach().cpu().squeeze().numpy()\n",
    "        scipy.io.savemat(\"data/inpainting/results/result_inpainting_2D_it%05d_192.mat\" % (i), {'pred':out_np.transpose(1,2,0)})\n",
    "        \n",
    "    i += 1\n",
    "\n",
    "    return total_loss\n",
    "\n",
    "net_input_saved = net_input.detach().clone()\n",
    "noise = net_input.detach().clone()\n",
    "\n",
    "p = get_params(OPT_OVER, net, net_input)\n",
    "optimize(OPTIMIZER, p, closure, LR, num_iter)"
   ]
  },
  {
   "cell_type": "code",
   "execution_count": null,
   "metadata": {},
   "outputs": [],
   "source": []
  }
 ],
 "metadata": {
  "kernelspec": {
   "display_name": "Python 3",
   "language": "python",
   "name": "python3"
  },
  "language_info": {
   "codemirror_mode": {
    "name": "ipython",
    "version": 3
   },
   "file_extension": ".py",
   "mimetype": "text/x-python",
   "name": "python",
   "nbconvert_exporter": "python",
   "pygments_lexer": "ipython3",
   "version": "3.8.8"
  }
 },
 "nbformat": 4,
 "nbformat_minor": 2
}
